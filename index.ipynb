{
  "cells": [
    {
      "cell_type": "code",
      "execution_count": 31,
      "metadata": {
        "colab": {
          "base_uri": "https://localhost:8080/"
        },
        "id": "_YibcFSpMtlK",
        "outputId": "df8fcd57-93af-42dd-8fc0-41a98b9d6a33"
      },
      "outputs": [
        {
          "output_type": "stream",
          "name": "stdout",
          "text": [
            "{'status': 'Chatbot created successfully'}\n"
          ]
        }
      ],
      "source": [
        "import requests\n",
        "import json\n",
        "import os\n",
        "\n",
        "BASE_URL = 'https://chatgpt-3-5-django-react-ywtk7siozq-wn.a.run.app/chatbots/'  # change to your Django app URL if it's not running locally\n",
        "\n",
        "# Create a chatbot\n",
        "data = {\n",
        "    \"chatbot_name\": \"Test Chatbot\",\n",
        "    \"state_deployed\": \"Not Deployed\",\n",
        "    \"active_state\": False,\n",
        "}\n",
        "response = requests.post(f'{BASE_URL}chatbots/', data=json.dumps(data), headers={'Content-Type': 'application/json'})\n",
        "\n",
        "if response.status_code in [200, 201]:  # 200 for success, 201 for created\n",
        "    try:\n",
        "        response_content = response.json()\n",
        "        print(response_content)\n",
        "    except json.JSONDecodeError:\n",
        "        print(\"JSONDecodeError occurred!\")\n",
        "else:\n",
        "    print(f\"Request failed with status code {response.status_code}\")"
      ]
    },
    {
      "cell_type": "code",
      "execution_count": 15,
      "metadata": {
        "id": "34C1xq6CMtlQ",
        "colab": {
          "base_uri": "https://localhost:8080/"
        },
        "outputId": "09080d12-9d2c-4f37-a8ff-dab2f4f32f22"
      },
      "outputs": [
        {
          "output_type": "execute_result",
          "data": {
            "text/plain": [
              "{'error': 'Document not found'}"
            ]
          },
          "metadata": {},
          "execution_count": 15
        }
      ],
      "source": [
        "# Get a document\n",
        "doc_id = \"test_doc_id\"  # replace with your document id\n",
        "response = requests.get(f'{BASE_URL}documents/{doc_id}/')\n",
        "response.json()"
      ]
    },
    {
      "cell_type": "code",
      "execution_count": 16,
      "metadata": {
        "id": "IMTj5-I8MtlS",
        "colab": {
          "base_uri": "https://localhost:8080/"
        },
        "outputId": "d6b3a57d-efac-408e-e256-c0d4b66bcebd"
      },
      "outputs": [
        {
          "output_type": "execute_result",
          "data": {
            "text/plain": [
              "{'count': 2,\n",
              " 'next': None,\n",
              " 'previous': None,\n",
              " 'results': [{'file_size': 1583,\n",
              "   'chatbot_id': 1,\n",
              "   'user_id': 1,\n",
              "   'filename': 'https%3A%2F%2Fwww.josecodetech.es%2F',\n",
              "   'location': 'https://www.josecodetech.es/'},\n",
              "  {'file_size': 36,\n",
              "   'tokens': 1,\n",
              "   'file_type': 'txt',\n",
              "   'characters': 4,\n",
              "   'chatbot_id': '1',\n",
              "   'user_id': '1',\n",
              "   'filename': 'data_20230618115625.txt',\n",
              "   'location': 'https://storage.googleapis.com/chatmine-388722/data_20230618115625.txt',\n",
              "   'file_encoding': 'utf-8'}]}"
            ]
          },
          "metadata": {},
          "execution_count": 16
        }
      ],
      "source": [
        "# Get list of documents\n",
        "response = requests.get(f'{BASE_URL}documents/')\n",
        "response.json()"
      ]
    },
    {
      "cell_type": "code",
      "execution_count": 26,
      "metadata": {
        "colab": {
          "base_uri": "https://localhost:8080/"
        },
        "id": "zAL3DkJ1MtlT",
        "outputId": "767bb941-fcb7-4381-c76a-0b324870fd47"
      },
      "outputs": [
        {
          "output_type": "execute_result",
          "data": {
            "text/plain": [
              "{'uploaded': [{'filename': 'GUIA DE INGLES GINA.pdf',\n",
              "   'file_type': '.pdf',\n",
              "   'location': 'https://storage.googleapis.com/chatmine-388722/GUIA%20DE%20INGLES%20GINA.pdf',\n",
              "   'file_size': 325128,\n",
              "   'file_encoding': 'binary',\n",
              "   'modification_time': '2023-06-19T02:53:44.766000Z'}],\n",
              " 'errors': []}"
            ]
          },
          "metadata": {},
          "execution_count": 26
        }
      ],
      "source": [
        "# Ensure these files exist in your notebook's directory.\n",
        "file_names = ['GUIA DE INGLES GINA.pdf']\n",
        "\n",
        "\n",
        "# Prepare files for upload\n",
        "files_to_upload = [('files', (os.path.basename(name), open(name, 'rb'), 'application/octet-stream')) for name in file_names]\n",
        "\n",
        "try:\n",
        "    # Perform the POST request\n",
        "    response = requests.post(f'{BASE_URL}uploadfiles/', files=files_to_upload)\n",
        "finally:\n",
        "    # Always close the files, even if an error occurs\n",
        "    for _, (file_name, file_object, _) in files_to_upload:\n",
        "        file_object.close()\n",
        "\n",
        "# Print the API response\n",
        "response.json()"
      ]
    },
    {
      "cell_type": "code",
      "execution_count": 10,
      "metadata": {
        "id": "U6CNTbvdMtlV",
        "colab": {
          "base_uri": "https://localhost:8080/"
        },
        "outputId": "b14e7c2c-d0ba-4d83-c5e6-ff192e78a293"
      },
      "outputs": [
        {
          "output_type": "execute_result",
          "data": {
            "text/plain": [
              "{'file': 'Cargado exitoso'}"
            ]
          },
          "metadata": {},
          "execution_count": 10
        }
      ],
      "source": [
        "data = {\n",
        "    \"fname\": \"Test\", # Name of the chatbot\n",
        "    \"lname\": \"User\", # Data\n",
        "}\n",
        "headers = {\n",
        "    'Content-Type': 'application/json'\n",
        "}\n",
        "\n",
        "response = requests.post(f'{BASE_URL}storetexto/', json=data, headers=headers)\n",
        "\n",
        "response.json()"
      ]
    },
    {
      "cell_type": "code",
      "execution_count": 21,
      "metadata": {
        "id": "FBVlRWo6MtlW",
        "colab": {
          "base_uri": "https://localhost:8080/"
        },
        "outputId": "0109e0aa-c901-4efd-9e8a-9e30cc7b8bdc"
      },
      "outputs": [
        {
          "output_type": "execute_result",
          "data": {
            "text/plain": [
              "{'response': 'Archivo guardado con éxito'}"
            ]
          },
          "metadata": {},
          "execution_count": 21
        }
      ],
      "source": [
        "# Save a URL\n",
        "data = {\n",
        "    \"url\": \"https://www.josecodetech.es/\",\n",
        "}\n",
        "response = requests.post(f'{BASE_URL}saveurl/', data=json.dumps(data), headers={'Content-Type': 'application/json'})\n",
        "response.json()"
      ]
    },
    {
      "cell_type": "code",
      "execution_count": 22,
      "metadata": {
        "id": "pzLD1mP9MtlX",
        "colab": {
          "base_uri": "https://localhost:8080/"
        },
        "outputId": "8ecccb9b-3bc5-414a-bbaf-16348120e21d"
      },
      "outputs": [
        {
          "output_type": "execute_result",
          "data": {
            "text/plain": [
              "{'urls': ['https://www.utp.edu.pe/',\n",
              "  'https://www.utp.edu.pe/arequipa/cgt/administracion-y-negocios/contabilidad-financiera',\n",
              "  'https://www.utp.edu.pe/arequipa/cgt/facultad-de-negocios/administracion-de-negocios',\n",
              "  'https://www.utp.edu.pe/arequipa/cgt/humanidades/derecho',\n",
              "  'https://www.utp.edu.pe/arequipa/cgt/ingenieria/ingenieria-civil',\n",
              "  'https://www.utp.edu.pe/arequipa/cgt/ingenieria/ingenieria-de-seguridad-industrial-y-minera',\n",
              "  'https://www.utp.edu.pe/arequipa/cgt/ingenieria/ingenieria-industrial',\n",
              "  'https://www.utp.edu.pe/arequipa/pregrado/arquitectura/arquitectura',\n",
              "  'https://www.utp.edu.pe/arequipa/pregrado/facultad-de-derecho/derecho',\n",
              "  'https://www.utp.edu.pe/arequipa/pregrado/facultad-de-ingenieria/ingenieria-civil',\n",
              "  'https://www.utp.edu.pe/arequipa/pregrado/facultad-de-ingenieria/ingenieria-de-minas',\n",
              "  'https://www.utp.edu.pe/arequipa/pregrado/facultad-de-ingenieria/ingenieria-de-seguridad-industrial-y-minera',\n",
              "  'https://www.utp.edu.pe/arequipa/pregrado/facultad-de-ingenieria/ingenieria-de-sistemas-e-informatica',\n",
              "  'https://www.utp.edu.pe/arequipa/pregrado/facultad-de-ingenieria/ingenieria-industrial',\n",
              "  'https://www.utp.edu.pe/arequipa/pregrado/facultad-de-ingenieria/ingenieria-mecanica',\n",
              "  'https://www.utp.edu.pe/arequipa/pregrado/facultad-de-ingenieria/ingenieria-mecatronica',\n",
              "  'https://www.utp.edu.pe/arequipa/pregrado/facultad-de-negocios/administracion-banca-y-finanzas',\n",
              "  'https://www.utp.edu.pe/arequipa/pregrado/facultad-de-negocios/administracion-de-empresas',\n",
              "  'https://www.utp.edu.pe/arequipa/pregrado/facultad-de-negocios/administracion-de-negocios-internacionales',\n",
              "  'https://www.utp.edu.pe/arequipa/pregrado/facultad-de-negocios/administracion-y-marketing',\n",
              "  'https://www.utp.edu.pe/arequipa/pregrado/facultad-de-negocios/contabilidad',\n",
              "  'https://www.utp.edu.pe/arequipa/pregrado/psicologia/psicologia',\n",
              "  'https://www.utp.edu.pe/ate/cgt/administracion-y-negocios/contabilidad-financiera',\n",
              "  'https://www.utp.edu.pe/ate/cgt/facultad-de-negocios/administracion-de-negocios',\n",
              "  'https://www.utp.edu.pe/ate/cgt/humanidades/derecho',\n",
              "  'https://www.utp.edu.pe/ate/cgt/ingenieria/ingenieria-civil',\n",
              "  'https://www.utp.edu.pe/ate/cgt/ingenieria/ingenieria-de-sistemas-e-informatica',\n",
              "  'https://www.utp.edu.pe/ate/cgt/ingenieria/ingenieria-industrial',\n",
              "  'https://www.utp.edu.pe/ate/pregrado/arquitectura/arquitectura',\n",
              "  'https://www.utp.edu.pe/ate/pregrado/facultad-de-derecho/derecho',\n",
              "  'https://www.utp.edu.pe/ate/pregrado/facultad-de-ingenieria/ingenieria-automotriz',\n",
              "  'https://www.utp.edu.pe/ate/pregrado/facultad-de-ingenieria/ingenieria-civil',\n",
              "  'https://www.utp.edu.pe/ate/pregrado/facultad-de-ingenieria/ingenieria-de-sistemas-e-informatica',\n",
              "  'https://www.utp.edu.pe/ate/pregrado/facultad-de-ingenieria/ingenieria-de-software',\n",
              "  'https://www.utp.edu.pe/ate/pregrado/facultad-de-ingenieria/ingenieria-electrica-y-de-potencia',\n",
              "  'https://www.utp.edu.pe/ate/pregrado/facultad-de-ingenieria/ingenieria-electronica',\n",
              "  'https://www.utp.edu.pe/ate/pregrado/facultad-de-ingenieria/ingenieria-en-seguridad-laboral-y-ambiental',\n",
              "  'https://www.utp.edu.pe/ate/pregrado/facultad-de-ingenieria/ingenieria-industrial',\n",
              "  'https://www.utp.edu.pe/ate/pregrado/facultad-de-ingenieria/ingenieria-mecanica',\n",
              "  'https://www.utp.edu.pe/ate/pregrado/facultad-de-ingenieria/ingenieria-mecatronica',\n",
              "  'https://www.utp.edu.pe/ate/pregrado/facultad-de-negocios/administracion-banca-y-finanzas',\n",
              "  'https://www.utp.edu.pe/ate/pregrado/facultad-de-negocios/administracion-de-empresas',\n",
              "  'https://www.utp.edu.pe/ate/pregrado/facultad-de-negocios/administracion-de-negocios-internacionales',\n",
              "  'https://www.utp.edu.pe/ate/pregrado/facultad-de-negocios/administracion-y-marketing',\n",
              "  'https://www.utp.edu.pe/ate/pregrado/facultad-de-negocios/contabilidad',\n",
              "  'https://www.utp.edu.pe/ate/pregrado/psicologia/psicologia',\n",
              "  'http://www.utp.edu.pe/cgt/administracion-y-negocios/administracion-de-negocios-y-finanzas',\n",
              "  'http://www.utp.edu.pe/cgt/administracion-y-negocios/administracion-de-negocios-y-marketing',\n",
              "  'http://www.utp.edu.pe/cgt/administracion-y-negocios/contabilidad-financiera',\n",
              "  'http://www.utp.edu.pe/cgt/administracion-y-negocios/negocios-internacionales',\n",
              "  'http://www.utp.edu.pe/cgt/humanidades/derecho',\n",
              "  'http://www.utp.edu.pe/cgt/ingenieria/ingenieria-civil',\n",
              "  'http://www.utp.edu.pe/cgt/ingenieria/ingenieria-de-seguridad-industrial-y-minera',\n",
              "  'http://www.utp.edu.pe/cgt/ingenieria/ingenieria-de-sistemas-e-informatica',\n",
              "  'http://www.utp.edu.pe/cgt/ingenieria/ingenieria-industrial',\n",
              "  'https://www.utp.edu.pe/chiclayo/cgt/administracion-y-negocios/administracion-de-negocios-y-marketing',\n",
              "  'https://www.utp.edu.pe/chiclayo/cgt/administracion-y-negocios/contabilidad-financiera',\n",
              "  'https://www.utp.edu.pe/chiclayo/cgt/humanidades/derecho',\n",
              "  'https://www.utp.edu.pe/chiclayo/cgt/ingenieria/ingenieria-civil',\n",
              "  'https://www.utp.edu.pe/chiclayo/cgt/ingenieria/ingenieria-de-sistemas-e-informatica',\n",
              "  'https://www.utp.edu.pe/chiclayo/cgt/ingenieria/ingenieria-industrial',\n",
              "  'https://www.utp.edu.pe/chiclayo/pregrado/arquitectura/arquitectura',\n",
              "  'https://www.utp.edu.pe/chiclayo/pregrado/facultad-de-derecho/derecho',\n",
              "  'https://www.utp.edu.pe/chiclayo/pregrado/facultad-de-ingenieria/ingenieria-civil',\n",
              "  'https://www.utp.edu.pe/chiclayo/pregrado/facultad-de-ingenieria/ingenieria-de-seguridad-industrial-y-minera',\n",
              "  'https://www.utp.edu.pe/chiclayo/pregrado/facultad-de-ingenieria/ingenieria-de-sistemas-e-informatica',\n",
              "  'https://www.utp.edu.pe/chiclayo/pregrado/facultad-de-ingenieria/ingenieria-industrial',\n",
              "  'https://www.utp.edu.pe/chiclayo/pregrado/facultad-de-negocios/administracion-de-empresas',\n",
              "  'https://www.utp.edu.pe/chiclayo/pregrado/facultad-de-negocios/administracion-de-negocios-internacionales',\n",
              "  'https://www.utp.edu.pe/chiclayo/pregrado/facultad-de-negocios/administracion-y-marketing',\n",
              "  'https://www.utp.edu.pe/chiclayo/pregrado/facultad-de-negocios/contabilidad',\n",
              "  'https://www.utp.edu.pe/chiclayo/pregrado/psicologia/psicologia',\n",
              "  'https://www.utp.edu.pe/chimbote/cgt/administracion-y-negocios/contabilidad-financiera',\n",
              "  'https://www.utp.edu.pe/chimbote/cgt/facultad-de-negocios/administracion-de-negocios',\n",
              "  'https://www.utp.edu.pe/chimbote/cgt/ingenieria/ingenieria-industrial',\n",
              "  'https://www.utp.edu.pe/chimbote/pregrado/arquitectura/arquitectura',\n",
              "  'https://www.utp.edu.pe/chimbote/pregrado/facultad-de-derecho/derecho',\n",
              "  'https://www.utp.edu.pe/chimbote/pregrado/facultad-de-ingenieria/ingenieria-civil',\n",
              "  'https://www.utp.edu.pe/chimbote/pregrado/facultad-de-ingenieria/ingenieria-de-sistemas-e-informatica',\n",
              "  'https://www.utp.edu.pe/chimbote/pregrado/facultad-de-ingenieria/ingenieria-industrial',\n",
              "  'https://www.utp.edu.pe/chimbote/pregrado/facultad-de-negocios/administracion-de-empresas',\n",
              "  'https://www.utp.edu.pe/chimbote/pregrado/facultad-de-negocios/administracion-de-negocios-internacionales',\n",
              "  'https://www.utp.edu.pe/chimbote/pregrado/facultad-de-negocios/administracion-y-marketing',\n",
              "  'https://www.utp.edu.pe/chimbote/pregrado/facultad-de-negocios/contabilidad',\n",
              "  'https://www.utp.edu.pe/chimbote/pregrado/psicologia/psicologia',\n",
              "  'https://www.utp.edu.pe/huancayo/cgt/administracion-y-negocios/contabilidad-financiera',\n",
              "  'https://www.utp.edu.pe/huancayo/cgt/facultad-de-negocios/administracion-de-negocios',\n",
              "  'https://www.utp.edu.pe/huancayo/cgt/ingenieria/ingenieria-industrial',\n",
              "  'https://www.utp.edu.pe/huancayo/pregrado/arquitectura/arquitectura',\n",
              "  'https://www.utp.edu.pe/huancayo/pregrado/facultad-de-derecho/derecho',\n",
              "  'https://www.utp.edu.pe/huancayo/pregrado/facultad-de-ingenieria/ingenieria-civil',\n",
              "  'https://www.utp.edu.pe/huancayo/pregrado/facultad-de-ingenieria/ingenieria-de-sistemas-e-informatica',\n",
              "  'https://www.utp.edu.pe/huancayo/pregrado/facultad-de-ingenieria/ingenieria-industrial',\n",
              "  'https://www.utp.edu.pe/huancayo/pregrado/facultad-de-negocios/administracion-de-empresas',\n",
              "  'https://www.utp.edu.pe/huancayo/pregrado/facultad-de-negocios/administracion-de-negocios-internacionales',\n",
              "  'https://www.utp.edu.pe/huancayo/pregrado/facultad-de-negocios/administracion-y-marketing',\n",
              "  'https://www.utp.edu.pe/huancayo/pregrado/facultad-de-negocios/contabilidad',\n",
              "  'https://www.utp.edu.pe/huancayo/pregrado/psicologia/psicologia',\n",
              "  'https://www.utp.edu.pe/ica/cgt/administracion-y-negocios/contabilidad-financiera',\n",
              "  'https://www.utp.edu.pe/ica/cgt/facultad-de-negocios/administracion-de-negocios',\n",
              "  'https://www.utp.edu.pe/ica/cgt/ingenieria/ingenieria-industrial',\n",
              "  'https://www.utp.edu.pe/ica/pregrado/arquitectura/arquitectura',\n",
              "  'https://www.utp.edu.pe/ica/pregrado/facultad-de-derecho/derecho',\n",
              "  'https://www.utp.edu.pe/ica/pregrado/facultad-de-ingenieria/ingenieria-civil',\n",
              "  'https://www.utp.edu.pe/ica/pregrado/facultad-de-ingenieria/ingenieria-de-sistemas-e-informatica',\n",
              "  'https://www.utp.edu.pe/ica/pregrado/facultad-de-ingenieria/ingenieria-industrial',\n",
              "  'https://www.utp.edu.pe/ica/pregrado/facultad-de-negocios/administracion-de-empresas',\n",
              "  'https://www.utp.edu.pe/ica/pregrado/facultad-de-negocios/administracion-de-negocios-internacionales',\n",
              "  'https://www.utp.edu.pe/ica/pregrado/facultad-de-negocios/administracion-y-marketing',\n",
              "  'https://www.utp.edu.pe/ica/pregrado/facultad-de-negocios/contabilidad',\n",
              "  'https://www.utp.edu.pe/ica/pregrado/psicologia/psicologia',\n",
              "  'https://www.utp.edu.pe/lima-centro/cgt/administracion-y-negocios/administracion-de-negocios-y-finanzas',\n",
              "  'https://www.utp.edu.pe/lima-centro/cgt/administracion-y-negocios/administracion-de-negocios-y-marketing',\n",
              "  'https://www.utp.edu.pe/lima-centro/cgt/administracion-y-negocios/contabilidad-financiera',\n",
              "  'https://www.utp.edu.pe/lima-centro/cgt/administracion-y-negocios/negocios-internacionales',\n",
              "  'https://www.utp.edu.pe/lima-centro/cgt/facultad-de-negocios/administracion-de-negocios',\n",
              "  'https://www.utp.edu.pe/lima-centro/cgt/humanidades/derecho',\n",
              "  'https://www.utp.edu.pe/lima-centro/cgt/ingenieria/ingenieria-civil',\n",
              "  'https://www.utp.edu.pe/lima-centro/cgt/ingenieria/ingenieria-de-sistemas-e-informatica',\n",
              "  'https://www.utp.edu.pe/lima-centro/cgt/ingenieria/ingenieria-industrial',\n",
              "  'https://www.utp.edu.pe/lima-centro/pregrado/arquitectura/arquitectura',\n",
              "  'https://www.utp.edu.pe/lima-centro/pregrado/facultad-de-comunicaciones/ciencias-de-la-comunicaci%C3%B3n',\n",
              "  'https://www.utp.edu.pe/lima-centro/pregrado/facultad-de-comunicaciones/comunicacion-y-publicidad',\n",
              "  'https://www.utp.edu.pe/lima-centro/pregrado/facultad-de-comunicaciones/diseno-digital-publicitario',\n",
              "  'https://www.utp.edu.pe/lima-centro/pregrado/facultad-de-derecho/derecho',\n",
              "  'https://www.utp.edu.pe/lima-centro/pregrado/facultad-de-ingenieria/ingenieria-aeronautica',\n",
              "  'https://www.utp.edu.pe/lima-centro/pregrado/facultad-de-ingenieria/ingenieria-automotriz',\n",
              "  'https://www.utp.edu.pe/lima-centro/pregrado/facultad-de-ingenieria/ingenieria-biomedica',\n",
              "  'https://www.utp.edu.pe/lima-centro/pregrado/facultad-de-ingenieria/ingenieria-civil',\n",
              "  'https://www.utp.edu.pe/lima-centro/pregrado/facultad-de-ingenieria/ingenieria-de-diseno-grafico',\n",
              "  'https://www.utp.edu.pe/lima-centro/pregrado/facultad-de-ingenieria/ingenieria-de-redes-y-comunicaciones',\n",
              "  'https://www.utp.edu.pe/lima-centro/pregrado/facultad-de-ingenieria/ingenieria-de-sistemas-e-informatica',\n",
              "  'https://www.utp.edu.pe/lima-centro/pregrado/facultad-de-ingenieria/ingenieria-de-software',\n",
              "  'https://www.utp.edu.pe/lima-centro/pregrado/facultad-de-ingenieria/ingenieria-de-telecomunicaciones',\n",
              "  'https://www.utp.edu.pe/lima-centro/pregrado/facultad-de-ingenieria/ingenieria-electrica-y-de-potencia',\n",
              "  'https://www.utp.edu.pe/lima-centro/pregrado/facultad-de-ingenieria/ingenieria-electronica',\n",
              "  'https://www.utp.edu.pe/lima-centro/pregrado/facultad-de-ingenieria/ingenieria-empresarial',\n",
              "  'https://www.utp.edu.pe/lima-centro/pregrado/facultad-de-ingenieria/ingenieria-en-seguridad-laboral-y-ambiental',\n",
              "  'https://www.utp.edu.pe/lima-centro/pregrado/facultad-de-ingenieria/ingenieria-industrial',\n",
              "  'https://www.utp.edu.pe/lima-centro/pregrado/facultad-de-ingenieria/ingenieria-mecanica',\n",
              "  'https://www.utp.edu.pe/lima-centro/pregrado/facultad-de-ingenieria/ingenieria-mecatronica',\n",
              "  'https://www.utp.edu.pe/lima-centro/pregrado/facultad-de-negocios/administracion-banca-y-finanzas',\n",
              "  'https://www.utp.edu.pe/lima-centro/pregrado/facultad-de-negocios/administracion-de-empresas',\n",
              "  'https://www.utp.edu.pe/lima-centro/pregrado/facultad-de-negocios/administracion-de-negocios-internacionales',\n",
              "  'https://www.utp.edu.pe/lima-centro/pregrado/facultad-de-negocios/administracion-hotelera-y-de-turismo',\n",
              "  'https://www.utp.edu.pe/lima-centro/pregrado/facultad-de-negocios/administracion-y-marketing',\n",
              "  'https://www.utp.edu.pe/lima-centro/pregrado/facultad-de-negocios/contabilidad',\n",
              "  'https://www.utp.edu.pe/lima-centro/pregrado/facultad-de-salud/enfermeria',\n",
              "  'https://www.utp.edu.pe/lima-centro/pregrado/facultad-de-salud/nutricion-y-dietetica',\n",
              "  'https://www.utp.edu.pe/lima-centro/pregrado/facultad-de-salud/obstetricia',\n",
              "  'https://www.utp.edu.pe/lima-centro/pregrado/facultad-de-salud/terapia-fisica',\n",
              "  'https://www.utp.edu.pe/lima-centro/pregrado/psicologia/psicologia',\n",
              "  'https://www.utp.edu.pe/lima-norte/cgt/administracion-y-negocios/contabilidad-financiera',\n",
              "  'https://www.utp.edu.pe/lima-norte/cgt/facultad-de-negocios/administracion-de-negocios',\n",
              "  'https://www.utp.edu.pe/lima-norte/cgt/humanidades/derecho',\n",
              "  'https://www.utp.edu.pe/lima-norte/cgt/ingenieria/ingenieria-civil',\n",
              "  'https://www.utp.edu.pe/lima-norte/cgt/ingenieria/ingenieria-de-sistemas-e-informatica',\n",
              "  'https://www.utp.edu.pe/lima-norte/cgt/ingenieria/ingenieria-industrial',\n",
              "  'https://www.utp.edu.pe/lima-norte/pregrado/arquitectura/arquitectura',\n",
              "  'https://www.utp.edu.pe/lima-norte/pregrado/facultad-de-comunicaciones/ciencias-de-la-comunicaci%C3%B3n',\n",
              "  'https://www.utp.edu.pe/lima-norte/pregrado/facultad-de-derecho/derecho',\n",
              "  'https://www.utp.edu.pe/lima-norte/pregrado/facultad-de-ingenieria/ingenieria-automotriz',\n",
              "  'https://www.utp.edu.pe/lima-norte/pregrado/facultad-de-ingenieria/ingenieria-civil',\n",
              "  'https://www.utp.edu.pe/lima-norte/pregrado/facultad-de-ingenieria/ingenieria-de-sistemas-e-informatica',\n",
              "  'https://www.utp.edu.pe/lima-norte/pregrado/facultad-de-ingenieria/ingenieria-de-software',\n",
              "  'https://www.utp.edu.pe/lima-norte/pregrado/facultad-de-ingenieria/ingenieria-electrica-y-de-potencia',\n",
              "  'https://www.utp.edu.pe/lima-norte/pregrado/facultad-de-ingenieria/ingenieria-electronica',\n",
              "  'https://www.utp.edu.pe/lima-norte/pregrado/facultad-de-ingenieria/ingenieria-en-seguridad-laboral-y-ambiental',\n",
              "  'https://www.utp.edu.pe/lima-norte/pregrado/facultad-de-ingenieria/ingenieria-industrial',\n",
              "  'https://www.utp.edu.pe/lima-norte/pregrado/facultad-de-ingenieria/ingenieria-mecanica',\n",
              "  'https://www.utp.edu.pe/lima-norte/pregrado/facultad-de-ingenieria/ingenieria-mecatronica',\n",
              "  'https://www.utp.edu.pe/lima-norte/pregrado/facultad-de-negocios/administracion-banca-y-finanzas',\n",
              "  'https://www.utp.edu.pe/lima-norte/pregrado/facultad-de-negocios/administracion-de-empresas',\n",
              "  'https://www.utp.edu.pe/lima-norte/pregrado/facultad-de-negocios/administracion-de-negocios-internacionales',\n",
              "  'https://www.utp.edu.pe/lima-norte/pregrado/facultad-de-negocios/administracion-y-marketing',\n",
              "  'https://www.utp.edu.pe/lima-norte/pregrado/facultad-de-negocios/contabilidad',\n",
              "  'https://www.utp.edu.pe/lima-norte/pregrado/psicologia/psicologia',\n",
              "  'https://www.utp.edu.pe/lima-sur/cgt/administracion-y-negocios/contabilidad-financiera',\n",
              "  'https://www.utp.edu.pe/lima-sur/cgt/facultad-de-negocios/administracion-de-negocios',\n",
              "  'https://www.utp.edu.pe/lima-sur/cgt/humanidades/derecho',\n",
              "  'https://www.utp.edu.pe/lima-sur/cgt/ingenieria/ingenieria-civil',\n",
              "  'https://www.utp.edu.pe/lima-sur/cgt/ingenieria/ingenieria-de-sistemas-e-informatica',\n",
              "  'https://www.utp.edu.pe/lima-sur/cgt/ingenieria/ingenieria-industrial',\n",
              "  'https://www.utp.edu.pe/lima-sur/pregrado/arquitectura/arquitectura',\n",
              "  'https://www.utp.edu.pe/lima-sur/pregrado/facultad-de-derecho/derecho',\n",
              "  'https://www.utp.edu.pe/lima-sur/pregrado/facultad-de-ingenieria/ingenieria-automotriz',\n",
              "  'https://www.utp.edu.pe/lima-sur/pregrado/facultad-de-ingenieria/ingenieria-civil',\n",
              "  'https://www.utp.edu.pe/lima-sur/pregrado/facultad-de-ingenieria/ingenieria-de-sistemas-e-informatica',\n",
              "  'https://www.utp.edu.pe/lima-sur/pregrado/facultad-de-ingenieria/ingenieria-de-software',\n",
              "  'https://www.utp.edu.pe/lima-sur/pregrado/facultad-de-ingenieria/ingenieria-electrica-y-de-potencia',\n",
              "  'https://www.utp.edu.pe/lima-sur/pregrado/facultad-de-ingenieria/ingenieria-electronica',\n",
              "  'https://www.utp.edu.pe/lima-sur/pregrado/facultad-de-ingenieria/ingenieria-en-seguridad-laboral-y-ambiental',\n",
              "  'https://www.utp.edu.pe/lima-sur/pregrado/facultad-de-ingenieria/ingenieria-industrial',\n",
              "  'https://www.utp.edu.pe/lima-sur/pregrado/facultad-de-ingenieria/ingenieria-mecanica',\n",
              "  'https://www.utp.edu.pe/lima-sur/pregrado/facultad-de-ingenieria/ingenieria-mecatronica',\n",
              "  'https://www.utp.edu.pe/lima-sur/pregrado/facultad-de-negocios/administracion-banca-y-finanzas',\n",
              "  'https://www.utp.edu.pe/lima-sur/pregrado/facultad-de-negocios/administracion-de-empresas',\n",
              "  'https://www.utp.edu.pe/lima-sur/pregrado/facultad-de-negocios/administracion-de-negocios-internacionales',\n",
              "  'https://www.utp.edu.pe/lima-sur/pregrado/facultad-de-negocios/administracion-y-marketing',\n",
              "  'https://www.utp.edu.pe/lima-sur/pregrado/facultad-de-negocios/contabilidad',\n",
              "  'https://www.utp.edu.pe/lima-sur/pregrado/psicologia/psicologia',\n",
              "  'https://www.utp.edu.pe/pregrado/facultad-de-ingenieria/ingenieria-de-sistemas-e-informatica',\n",
              "  'https://www.utp.edu.pe/chiclayo',\n",
              "  'https://www.utp.edu.pe/chimbote',\n",
              "  'https://www.utp.edu.pe/huancayo',\n",
              "  'https://www.utp.edu.pe/ica',\n",
              "  'https://www.utp.edu.pe/lima-sur',\n",
              "  'https://www.utp.edu.pe/piura',\n",
              "  'https://www.utp.edu.pe/padres',\n",
              "  'https://www.utp.edu.pe/sjl',\n",
              "  'https://www.utp.edu.pe/facultad-de-ingenieria',\n",
              "  'https://www.utp.edu.pe/facultad-de-negocios',\n",
              "  'https://www.utp.edu.pe/pregrado/facultad-de-ingenieria/ingenieria-electronica',\n",
              "  'https://www.utp.edu.pe/facultad-de-salud',\n",
              "  'https://www.utp.edu.pe/facultad-de-comunicaciones',\n",
              "  'https://www.utp.edu.pe/arquitectura',\n",
              "  'https://www.utp.edu.pe/preguntas-frecuentes',\n",
              "  'https://www.utp.edu.pe/cgt/psicologia/psicologia',\n",
              "  'https://www.utp.edu.pe/pregrado-semipresencial',\n",
              "  'https://www.utp.edu.pe/pregrado/facultad-de-negocios/administracion-de-empresas',\n",
              "  'https://www.utp.edu.pe/pregrado/facultad-de-negocios/administracion-de-negocios-internacionales',\n",
              "  'https://www.utp.edu.pe/pregrado/facultad-de-negocios/administracion-hotelera-y-de-turismo',\n",
              "  'https://www.utp.edu.pe/pregrado/facultad-de-negocios/administracion-y-marketing',\n",
              "  'https://www.utp.edu.pe/pregrado/facultad-de-negocios/administracion-banca-y-finanzas',\n",
              "  'https://www.utp.edu.pe/pregrado/arquitectura/arquitectura',\n",
              "  'https://www.utp.edu.pe/pregrado/facultad-de-comunicaciones/ciencias-de-la-comunicacion',\n",
              "  'https://www.utp.edu.pe/trujillo',\n",
              "  'https://www.utp.edu.pe/pregrado',\n",
              "  'https://www.utp.edu.pe/pregrado/facultad-de-comunicaciones/comunicacion-y-publicidad',\n",
              "  'https://www.utp.edu.pe/carreras-a-distancia',\n",
              "  'https://www.utp.edu.pe/carreras-a-distancia/facultad-de-negocios/administracion-de-empresas',\n",
              "  'https://www.utp.edu.pe/carreras-a-distancia/facultad-de-negocios/contabilidad',\n",
              "  'https://www.utp.edu.pe/carreras-a-distancia/facultad-de-derecho/derecho',\n",
              "  'https://www.utp.edu.pe/carreras-a-distancia/psicologia/psicologia',\n",
              "  'https://www.utp.edu.pe/pregrado/facultad-de-negocios/contabilidad',\n",
              "  'https://www.utp.edu.pe/carreras-a-distancia/facultad-de-ingenieria/ingenieria-de-sistemas-e-informatica',\n",
              "  'https://www.utp.edu.pe/carreras-a-distancia/facultad-de-ingenieria/ingenieria-industrial',\n",
              "  'https://www.utp.edu.pe/pregrado/facultad-de-derecho/derecho',\n",
              "  'https://www.utp.edu.pe/pregrado/facultad-de-comunicaciones/diseno-digital-publicitario',\n",
              "  'https://www.utp.edu.pe/pregrado/facultad-de-salud/enfermeria',\n",
              "  'https://www.utp.edu.pe/pregrado/facultad-de-ingenieria/ingenieria-aeronautica',\n",
              "  'https://www.utp.edu.pe/pregrado/facultad-de-ingenieria/ingenieria-automotriz',\n",
              "  'https://www.utp.edu.pe/cgt/facultad-de-ingenieria/ingenieria-de-software',\n",
              "  'https://www.utp.edu.pe/cgt/facultad-de-ingenieria/ingenieria-mecanica',\n",
              "  'https://www.utp.edu.pe/cgt/facultad-de-ingenieria/ingenieria-electronica',\n",
              "  'https://www.utp.edu.pe/pregrado/facultad-de-ingenieria/ingenieria-biomedica',\n",
              "  'https://www.utp.edu.pe/cgt/arquitectura/arquitectura',\n",
              "  'https://www.utp.edu.pe/pregrado/facultad-de-ingenieria/ingenieria-civil',\n",
              "  'https://www.utp.edu.pe/cgt/facultad-de-negocios/administracion-y-marketing',\n",
              "  'https://www.utp.edu.pe/cgt/facultad-de-negocios/administracion-de-negocios-internacionales',\n",
              "  'https://www.utp.edu.pe/cgt/facultad-de-ingenieria/ingenieria-mecatronica',\n",
              "  'https://www.utp.edu.pe/pregrado/facultad-de-ingenieria/ingenieria-de-diseno-grafico',\n",
              "  'https://www.utp.edu.pe/cgt',\n",
              "  'https://www.utp.edu.pe/pregrado/facultad-de-ingenieria/ingenieria-de-minas',\n",
              "  'https://www.utp.edu.pe/pregrado/facultad-de-ingenieria/ingenieria-de-redes-y-comunicaciones',\n",
              "  'https://www.utp.edu.pe/pregrado/facultad-de-ingenieria/ingenieria-de-seguridad-industrial-y-minera',\n",
              "  'https://www.utp.edu.pe/pregrado/facultad-de-ingenieria/ingenieria-de-software',\n",
              "  'https://www.utp.edu.pe/pregrado/facultad-de-ingenieria/ingenieria-de-telecomunicaciones',\n",
              "  'https://www.utp.edu.pe/pregrado/facultad-de-ingenieria/ingenieria-electrica-y-de-potencia',\n",
              "  'https://www.utp.edu.pe/pregrado/facultad-de-ingenieria/ingenieria-empresarial',\n",
              "  'https://www.utp.edu.pe/pregrado/facultad-de-ingenieria/ingenieria-en-seguridad-laboral-y-ambiental',\n",
              "  'https://www.utp.edu.pe/pregrado/facultad-de-ingenieria/ingenieria-industrial',\n",
              "  'https://www.utp.edu.pe/pregrado/facultad-de-ingenieria/ingenieria-mecanica',\n",
              "  'https://www.utp.edu.pe/ate',\n",
              "  'https://www.utp.edu.pe/pregrado/facultad-de-ingenieria/ingenieria-mecatronica',\n",
              "  'https://www.utp.edu.pe/pregrado/facultad-de-salud/nutricion-y-dietetica',\n",
              "  'https://www.utp.edu.pe/pregrado/facultad-de-salud/obstetricia',\n",
              "  'https://www.utp.edu.pe/pregrado/psicologia/carrera-de-psicologia',\n",
              "  'https://www.utp.edu.pe/pregrado/facultad-de-salud/terapia-fisica',\n",
              "  'https://www.utp.edu.pe/cgt/facultad-de-negocios/administracion-de-negocios',\n",
              "  'https://www.utp.edu.pe/cgt/facultad-de-negocios/administracion-de-negocios-y-finanzas',\n",
              "  'https://www.utp.edu.pe/cgt/facultad-de-negocios/administracion-de-negocios-y-marketing',\n",
              "  'https://www.utp.edu.pe/cgt/facultad-de-negocios/contabilidad',\n",
              "  'https://www.utp.edu.pe/cgt/facultad-de-derecho/derecho',\n",
              "  'https://www.utp.edu.pe/lima-centro',\n",
              "  'https://www.utp.edu.pe/cgt/facultad-de-ingenieria/ingenieria-civil',\n",
              "  'https://www.utp.edu.pe/cgt/facultad-de-ingenieria/ingenieria-de-seguridad-industrial-y-minera',\n",
              "  'https://www.utp.edu.pe/cgt/facultad-de-ingenieria/ingenieria-de-sistemas-e-informatica',\n",
              "  'https://www.utp.edu.pe/cgt/facultad-de-ingenieria/ingenieria-empresarial',\n",
              "  'https://www.utp.edu.pe/cgt/facultad-de-ingenieria/ingenieria-industrial',\n",
              "  'https://www.utp.edu.pe/cgt/facultad-de-negocios/administracion-negocios-internacionales',\n",
              "  'https://www.utp.edu.pe/facultad-de-derecho',\n",
              "  'https://www.utp.edu.pe/psicologia',\n",
              "  'https://www.utp.edu.pe/lima-norte',\n",
              "  'https://www.utp.edu.pe/arequipa',\n",
              "  'https://www.utp.edu.pe/ab_home',\n",
              "  'https://www.utp.edu.pe/piura/cgt/administracion-y-negocios/contabilidad-financiera',\n",
              "  'https://www.utp.edu.pe/piura/cgt/ingenieria/ingenieria-industrial',\n",
              "  'https://www.utp.edu.pe/piura/pregrado/arquitectura/arquitectura',\n",
              "  'https://www.utp.edu.pe/piura/pregrado/facultad-de-derecho/derecho',\n",
              "  'https://www.utp.edu.pe/piura/pregrado/facultad-de-ingenieria/ingenieria-civil',\n",
              "  'https://www.utp.edu.pe/piura/pregrado/facultad-de-ingenieria/ingenieria-de-sistemas-e-informatica',\n",
              "  'https://www.utp.edu.pe/piura/pregrado/facultad-de-ingenieria/ingenieria-industrial',\n",
              "  'https://www.utp.edu.pe/piura/pregrado/facultad-de-negocios/administracion-de-empresas',\n",
              "  'https://www.utp.edu.pe/piura/pregrado/facultad-de-negocios/administracion-de-negocios-internacionales',\n",
              "  'https://www.utp.edu.pe/piura/pregrado/facultad-de-negocios/administracion-y-marketing',\n",
              "  'https://www.utp.edu.pe/piura/pregrado/facultad-de-negocios/contabilidad',\n",
              "  'https://www.utp.edu.pe/piura/pregrado/psicologia/psicologia',\n",
              "  'https://www.utp.edu.pe/sjl/cgt/administracion-y-negocios/contabilidad-financiera',\n",
              "  'https://www.utp.edu.pe/sjl/cgt/facultad-de-negocios/administracion-de-negocios',\n",
              "  'https://www.utp.edu.pe/sjl/cgt/ingenieria/ingenieria-civil',\n",
              "  'https://www.utp.edu.pe/sjl/cgt/ingenieria/ingenieria-industrial',\n",
              "  'https://www.utp.edu.pe/sjl/pregrado/arquitectura/arquitectura',\n",
              "  'https://www.utp.edu.pe/sjl/pregrado/facultad-de-derecho/derecho',\n",
              "  'https://www.utp.edu.pe/sjl/pregrado/facultad-de-ingenieria/ingenieria-automotriz',\n",
              "  'https://www.utp.edu.pe/sjl/pregrado/facultad-de-ingenieria/ingenieria-civil',\n",
              "  'https://www.utp.edu.pe/sjl/pregrado/facultad-de-ingenieria/ingenieria-de-sistemas-e-informatica',\n",
              "  'https://www.utp.edu.pe/sjl/pregrado/facultad-de-ingenieria/ingenieria-de-software',\n",
              "  'https://www.utp.edu.pe/sjl/pregrado/facultad-de-ingenieria/ingenieria-electrica-y-de-potencia',\n",
              "  'https://www.utp.edu.pe/sjl/pregrado/facultad-de-ingenieria/ingenieria-electronica',\n",
              "  'https://www.utp.edu.pe/sjl/pregrado/facultad-de-ingenieria/ingenieria-en-seguridad-laboral-y-ambiental',\n",
              "  'https://www.utp.edu.pe/sjl/pregrado/facultad-de-ingenieria/ingenieria-industrial',\n",
              "  'https://www.utp.edu.pe/sjl/pregrado/facultad-de-ingenieria/ingenieria-mecanica',\n",
              "  'https://www.utp.edu.pe/sjl/pregrado/facultad-de-ingenieria/ingenieria-mecatronica',\n",
              "  'https://www.utp.edu.pe/sjl/pregrado/facultad-de-negocios/administracion-banca-y-finanzas',\n",
              "  'https://www.utp.edu.pe/sjl/pregrado/facultad-de-negocios/administracion-de-empresas',\n",
              "  'https://www.utp.edu.pe/sjl/pregrado/facultad-de-negocios/administracion-de-negocios-internacionales',\n",
              "  'https://www.utp.edu.pe/sjl/pregrado/facultad-de-negocios/administracion-y-marketing',\n",
              "  'https://www.utp.edu.pe/sjl/pregrado/facultad-de-negocios/contabilidad',\n",
              "  'https://www.utp.edu.pe/sjl/pregrado/psicologia/psicologia'],\n",
              " 'message': 'Web scraping exitoso'}"
            ]
          },
          "metadata": {},
          "execution_count": 22
        }
      ],
      "source": [
        "# Scrape a sitemap\n",
        "data = {\n",
        "    \"url\": \"https://www.utp.edu.pe/sitemap.xml\",\n",
        "}\n",
        "response = requests.post(f'{BASE_URL}scrapesitemap/', data=json.dumps(data), headers={'Content-Type': 'application/json'})\n",
        "response.json()"
      ]
    }
  ],
  "metadata": {
    "kernelspec": {
      "display_name": "env",
      "language": "python",
      "name": "python3"
    },
    "language_info": {
      "codemirror_mode": {
        "name": "ipython",
        "version": 3
      },
      "file_extension": ".py",
      "mimetype": "text/x-python",
      "name": "python",
      "nbconvert_exporter": "python",
      "pygments_lexer": "ipython3",
      "version": "3.11.3"
    },
    "orig_nbformat": 4,
    "colab": {
      "provenance": []
    }
  },
  "nbformat": 4,
  "nbformat_minor": 0
}