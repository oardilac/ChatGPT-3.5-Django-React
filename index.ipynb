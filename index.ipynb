{
 "cells": [
  {
   "cell_type": "code",
   "execution_count": 5,
   "metadata": {},
   "outputs": [
    {
     "name": "stdout",
     "output_type": "stream",
     "text": [
      "Request failed with status code 500\n"
     ]
    }
   ],
   "source": [
    "import requests\n",
    "import json\n",
    "import os\n",
    "\n",
    "BASE_URL = 'https://chat-service-ywtk7siozq-wn.a.run.app/chatbots/'  # change to your Django app URL if it's not running locally\n",
    "\n",
    "# Create a chatbot\n",
    "data = {\n",
    "    \"chatbot_name\": \"Test Chatbot\",\n",
    "    \"state_deployed\": \"Not Deployed\",\n",
    "    \"active_state\": False,\n",
    "}\n",
    "response = requests.post(f'{BASE_URL}chatbots/', data=json.dumps(data), headers={'Content-Type': 'application/json'})\n",
    "response = requests.post(f'{BASE_URL}chatbots/', data=json.dumps(data), headers={'Content-Type': 'application/json'})\n",
    "\n",
    "if response.status_code == 200:  # or some other success status code\n",
    "    try:\n",
    "        response_content = response.json()\n",
    "    except json.JSONDecodeError:\n",
    "        print(\"JSONDecodeError occurred!\")\n",
    "else:\n",
    "    print(f\"Request failed with status code {response.status_code}\")"
   ]
  },
  {
   "cell_type": "code",
   "execution_count": null,
   "metadata": {},
   "outputs": [],
   "source": [
    "# Get a document\n",
    "doc_id = \"test_doc_id\"  # replace with your document id\n",
    "response = requests.get(f'{BASE_URL}documents/{doc_id}/')\n",
    "response.json()"
   ]
  },
  {
   "cell_type": "code",
   "execution_count": null,
   "metadata": {},
   "outputs": [],
   "source": [
    "# Get list of documents\n",
    "response = requests.get(f'{BASE_URL}documents/')\n",
    "response.json()"
   ]
  },
  {
   "cell_type": "code",
   "execution_count": null,
   "metadata": {},
   "outputs": [],
   "source": [
    "# Ensure these files exist in your notebook's directory.\n",
    "file_names = ['/path/to/your/file.txt', '/another/path/to/your/file.csv']\n",
    "\n",
    "\n",
    "# Prepare files for upload\n",
    "files_to_upload = [('files', (os.path.basename(name), open(name, 'rb'), 'application/octet-stream')) for name in file_names]\n",
    "\n",
    "try:\n",
    "    # Perform the POST request\n",
    "    response = requests.post(f'{BASE_URL}uploadfiles/', files=files_to_upload)\n",
    "finally:\n",
    "    # Always close the files, even if an error occurs\n",
    "    for _, (file_name, file_object, _) in files_to_upload:\n",
    "        file_object.close()\n",
    "\n",
    "# Print the API response\n",
    "response.json()"
   ]
  },
  {
   "cell_type": "code",
   "execution_count": null,
   "metadata": {},
   "outputs": [],
   "source": [
    "data = {\n",
    "    \"fname\": \"Test\", # Name of the chatbot\n",
    "    \"lname\": \"User\", # Data\n",
    "}\n",
    "headers = {\n",
    "    'Content-Type': 'application/json'\n",
    "}\n",
    "\n",
    "response = requests.post(f'{BASE_URL}storetexto/', json=data, headers=headers)\n",
    "\n",
    "response.json()"
   ]
  },
  {
   "cell_type": "code",
   "execution_count": null,
   "metadata": {},
   "outputs": [],
   "source": [
    "# Save a URL\n",
    "data = {\n",
    "    \"url\": \"https://www.google.com/\",\n",
    "}\n",
    "response = requests.post(f'{BASE_URL}saveurl/', data=json.dumps(data), headers={'Content-Type': 'application/json'})\n",
    "response.json()"
   ]
  },
  {
   "cell_type": "code",
   "execution_count": null,
   "metadata": {},
   "outputs": [],
   "source": [
    "# Scrape a sitemap\n",
    "data = {\n",
    "    \"url\": \"https://www.google.com/sitemap.xml\",\n",
    "}\n",
    "response = requests.post(f'{BASE_URL}scrapesitemap/', data=json.dumps(data), headers={'Content-Type': 'application/json'})\n",
    "response.json()"
   ]
  }
 ],
 "metadata": {
  "kernelspec": {
   "display_name": "env",
   "language": "python",
   "name": "python3"
  },
  "language_info": {
   "codemirror_mode": {
    "name": "ipython",
    "version": 3
   },
   "file_extension": ".py",
   "mimetype": "text/x-python",
   "name": "python",
   "nbconvert_exporter": "python",
   "pygments_lexer": "ipython3",
   "version": "3.11.3"
  },
  "orig_nbformat": 4
 },
 "nbformat": 4,
 "nbformat_minor": 2
}
